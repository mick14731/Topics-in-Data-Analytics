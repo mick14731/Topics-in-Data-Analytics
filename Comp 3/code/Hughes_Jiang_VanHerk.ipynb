{
 "cells": [
  {
   "cell_type": "code",
   "execution_count": 1,
   "metadata": {},
   "outputs": [],
   "source": [
    "import pandas as pd\n",
    "import numpy as np\n",
    "import sklearn as skl\n",
    "from sklearn import preprocessing as pp\n",
    "from sklearn.cluster import KMeans\n",
    "from matplotlib import pyplot as plt\n",
    "import sys \n",
    "import datetime\n",
    "import math\n",
    "from datetime import date"
   ]
  },
  {
   "cell_type": "markdown",
   "metadata": {},
   "source": [
    "##### Loading Data"
   ]
  },
  {
   "cell_type": "code",
   "execution_count": 2,
   "metadata": {},
   "outputs": [],
   "source": [
    "Data = pd.read_excel(\"..\\data\\Online Retail.xlsx\")"
   ]
  },
  {
   "cell_type": "code",
   "execution_count": 3,
   "metadata": {},
   "outputs": [],
   "source": [
    "online = Data"
   ]
  },
  {
   "cell_type": "markdown",
   "metadata": {},
   "source": [
    "## Exploratory data analysis\n",
    "\n",
    "### Unique Value Analysis"
   ]
  },
  {
   "cell_type": "code",
   "execution_count": 4,
   "metadata": {},
   "outputs": [
    {
     "data": {
      "text/plain": [
       "[{'InvoiceNo': 25900,\n",
       "  'StockCode': 4070,\n",
       "  'Description': 4223,\n",
       "  'Quantity': 722,\n",
       "  'InvoiceDate': 23260,\n",
       "  'CustomerID': 4372,\n",
       "  'Country': 38}]"
      ]
     },
     "execution_count": 4,
     "metadata": {},
     "output_type": "execute_result"
    }
   ],
   "source": [
    "\n",
    "counts = [{\"InvoiceNo\" : online['InvoiceNo'].nunique(), \\\n",
    "           \"StockCode\" : online['StockCode'].nunique(), \\\n",
    "           \"Description\" : online['Description'].nunique(),\\\n",
    "           \"Quantity\" : online['Quantity'].nunique(), \\\n",
    "           \"InvoiceDate\" : online['InvoiceDate'].nunique(), \\\n",
    "           \"CustomerID\" : online['CustomerID'].nunique(), \\\n",
    "           \"Country\" : online['Country'].nunique()}]\n",
    "counts"
   ]
  },
  {
   "cell_type": "markdown",
   "metadata": {},
   "source": [
    "### Missing Data Analysis"
   ]
  },
  {
   "cell_type": "code",
   "execution_count": 5,
   "metadata": {},
   "outputs": [
    {
     "data": {
      "text/plain": [
       "InvoiceNo           0\n",
       "StockCode           0\n",
       "Description      1454\n",
       "Quantity            0\n",
       "InvoiceDate         0\n",
       "UnitPrice           0\n",
       "CustomerID     135080\n",
       "Country             0\n",
       "dtype: int64"
      ]
     },
     "execution_count": 5,
     "metadata": {},
     "output_type": "execute_result"
    }
   ],
   "source": [
    "online.isna().sum()"
   ]
  },
  {
   "cell_type": "code",
   "execution_count": 6,
   "metadata": {},
   "outputs": [
    {
     "data": {
      "text/plain": [
       "(541909, 8)"
      ]
     },
     "execution_count": 6,
     "metadata": {},
     "output_type": "execute_result"
    }
   ],
   "source": [
    "online.shape"
   ]
  },
  {
   "cell_type": "markdown",
   "metadata": {},
   "source": [
    "Remove any missing from CustomerID as we are trying to segment customers."
   ]
  },
  {
   "cell_type": "code",
   "execution_count": 7,
   "metadata": {},
   "outputs": [
    {
     "data": {
      "text/plain": [
       "(406829, 8)"
      ]
     },
     "execution_count": 7,
     "metadata": {},
     "output_type": "execute_result"
    }
   ],
   "source": [
    "online = online[pd.notnull(online['CustomerID'])]\n",
    "online.isna().sum()\n",
    "online.shape"
   ]
  },
  {
   "cell_type": "markdown",
   "metadata": {},
   "source": [
    "### Column Removal\n",
    "We can try to determine the importance of the Description column. As seen below, description is more or less a duplicate of stock code. There are more unique values in description because certain descriptions may slightly vary at different times. We can assume that each description corresponds with a unique stock code, therefore we can drop it."
   ]
  },
  {
   "cell_type": "code",
   "execution_count": 8,
   "metadata": {},
   "outputs": [
    {
     "data": {
      "text/plain": [
       "1                  WHITE METAL LANTERN\n",
       "491875    WHITE MOROCCAN METAL LANTERN\n",
       "Name: Description, dtype: object"
      ]
     },
     "execution_count": 8,
     "metadata": {},
     "output_type": "execute_result"
    }
   ],
   "source": [
    "is_code = online['StockCode'] == 71053\n",
    "description_for_code = online[is_code]['Description']\n",
    "description_for_code.drop_duplicates()\n",
    "\n",
    "# is_code = online['StockCode'] == '84406B'\n",
    "# description_for_code = online[is_code]['Description']\n",
    "# description_for_code.drop_duplicates()"
   ]
  },
  {
   "cell_type": "code",
   "execution_count": 9,
   "metadata": {},
   "outputs": [
    {
     "data": {
      "text/plain": [
       "InvoiceNo              object\n",
       "StockCode              object\n",
       "Quantity                int64\n",
       "InvoiceDate    datetime64[ns]\n",
       "UnitPrice             float64\n",
       "CustomerID            float64\n",
       "Country                object\n",
       "dtype: object"
      ]
     },
     "execution_count": 9,
     "metadata": {},
     "output_type": "execute_result"
    }
   ],
   "source": [
    "online = online.drop('Description',axis=1)\n",
    "online.dtypes"
   ]
  },
  {
   "cell_type": "markdown",
   "metadata": {},
   "source": [
    "### Negative Quantity Values \n",
    "\n",
    "Identify any negative quantity values. These can be useful monetary analysis however should be removed for frequency and recency. There are records that are not purchases, some are for negative quantities, indicating they are returns/canceled orders. These records should not be included in the analysis, but we have to make a decision as to what to do with the orders that are being cancelled. In some cases there is only one pair of StockCode, CustomerID (eg one purchase which was later returned), which would suggest that the return and original purchase should both be removed. In other cases, a customer may have purchased the item multiple times and/or in a higher quantity that is being retured (eg purchases 6 units, returns 2 or puchases 1 unit 6 times, then returns 2). In this case, subtracting the monetary value of the return from the customers total expendature is necessary. So we wil get the net purchase value per customer, remove the transactions with negative quantities, then construct the frequency and recency measures from the original purchases"
   ]
  },
  {
   "cell_type": "code",
   "execution_count": 10,
   "metadata": {},
   "outputs": [
    {
     "data": {
      "text/plain": [
       "-80995"
      ]
     },
     "execution_count": 10,
     "metadata": {},
     "output_type": "execute_result"
    }
   ],
   "source": [
    "online.Quantity.min()"
   ]
  },
  {
   "cell_type": "code",
   "execution_count": 11,
   "metadata": {},
   "outputs": [
    {
     "data": {
      "text/html": [
       "<div>\n",
       "<style scoped>\n",
       "    .dataframe tbody tr th:only-of-type {\n",
       "        vertical-align: middle;\n",
       "    }\n",
       "\n",
       "    .dataframe tbody tr th {\n",
       "        vertical-align: top;\n",
       "    }\n",
       "\n",
       "    .dataframe thead th {\n",
       "        text-align: right;\n",
       "    }\n",
       "</style>\n",
       "<table border=\"1\" class=\"dataframe\">\n",
       "  <thead>\n",
       "    <tr style=\"text-align: right;\">\n",
       "      <th></th>\n",
       "      <th>InvoiceNo</th>\n",
       "      <th>StockCode</th>\n",
       "      <th>Quantity</th>\n",
       "      <th>InvoiceDate</th>\n",
       "      <th>UnitPrice</th>\n",
       "      <th>CustomerID</th>\n",
       "      <th>Country</th>\n",
       "    </tr>\n",
       "  </thead>\n",
       "  <tbody>\n",
       "    <tr>\n",
       "      <th>141</th>\n",
       "      <td>C536379</td>\n",
       "      <td>D</td>\n",
       "      <td>-1</td>\n",
       "      <td>2010-12-01 09:41:00</td>\n",
       "      <td>27.50</td>\n",
       "      <td>14527.0</td>\n",
       "      <td>United Kingdom</td>\n",
       "    </tr>\n",
       "    <tr>\n",
       "      <th>154</th>\n",
       "      <td>C536383</td>\n",
       "      <td>35004C</td>\n",
       "      <td>-1</td>\n",
       "      <td>2010-12-01 09:49:00</td>\n",
       "      <td>4.65</td>\n",
       "      <td>15311.0</td>\n",
       "      <td>United Kingdom</td>\n",
       "    </tr>\n",
       "    <tr>\n",
       "      <th>235</th>\n",
       "      <td>C536391</td>\n",
       "      <td>22556</td>\n",
       "      <td>-12</td>\n",
       "      <td>2010-12-01 10:24:00</td>\n",
       "      <td>1.65</td>\n",
       "      <td>17548.0</td>\n",
       "      <td>United Kingdom</td>\n",
       "    </tr>\n",
       "    <tr>\n",
       "      <th>236</th>\n",
       "      <td>C536391</td>\n",
       "      <td>21984</td>\n",
       "      <td>-24</td>\n",
       "      <td>2010-12-01 10:24:00</td>\n",
       "      <td>0.29</td>\n",
       "      <td>17548.0</td>\n",
       "      <td>United Kingdom</td>\n",
       "    </tr>\n",
       "    <tr>\n",
       "      <th>237</th>\n",
       "      <td>C536391</td>\n",
       "      <td>21983</td>\n",
       "      <td>-24</td>\n",
       "      <td>2010-12-01 10:24:00</td>\n",
       "      <td>0.29</td>\n",
       "      <td>17548.0</td>\n",
       "      <td>United Kingdom</td>\n",
       "    </tr>\n",
       "  </tbody>\n",
       "</table>\n",
       "</div>"
      ],
      "text/plain": [
       "    InvoiceNo StockCode  Quantity         InvoiceDate  UnitPrice  CustomerID  \\\n",
       "141   C536379         D        -1 2010-12-01 09:41:00      27.50     14527.0   \n",
       "154   C536383    35004C        -1 2010-12-01 09:49:00       4.65     15311.0   \n",
       "235   C536391     22556       -12 2010-12-01 10:24:00       1.65     17548.0   \n",
       "236   C536391     21984       -24 2010-12-01 10:24:00       0.29     17548.0   \n",
       "237   C536391     21983       -24 2010-12-01 10:24:00       0.29     17548.0   \n",
       "\n",
       "            Country  \n",
       "141  United Kingdom  \n",
       "154  United Kingdom  \n",
       "235  United Kingdom  \n",
       "236  United Kingdom  \n",
       "237  United Kingdom  "
      ]
     },
     "execution_count": 11,
     "metadata": {},
     "output_type": "execute_result"
    }
   ],
   "source": [
    "online[online['Quantity'] < 0 ].head(n=5)"
   ]
  },
  {
   "cell_type": "markdown",
   "metadata": {},
   "source": [
    "## Data Preparation\n",
    "Need to make statistics for each customer ID:\n",
    "- Recency (date since last transaction)\n",
    "- Frequency (how often purchases are made)\n",
    "- Monetary (value of spending per customer) \n",
    "\n",
    "We do monetary analysis first as we need to keep the negative quantity. "
   ]
  },
  {
   "cell_type": "code",
   "execution_count": 12,
   "metadata": {},
   "outputs": [
    {
     "name": "stdout",
     "output_type": "stream",
     "text": [
      "61619    77183.6\n",
      "61624   -77183.6\n",
      "Name: ItemValue, dtype: float64\n",
      "   CustomerID  MonetaryValue\n",
      "0     12346.0           0.00\n",
      "1     12347.0        4310.00\n",
      "2     12348.0        1797.24\n",
      "3     12349.0        1757.55\n",
      "4     12350.0         334.40\n",
      "5     12352.0        1545.41\n",
      "6     12353.0          89.00\n",
      "7     12354.0        1079.40\n",
      "8     12355.0         459.40\n",
      "9     12356.0        2811.43\n"
     ]
    },
    {
     "data": {
      "text/plain": [
       "(4372, 2)"
      ]
     },
     "execution_count": 12,
     "metadata": {},
     "output_type": "execute_result"
    }
   ],
   "source": [
    "#Monetary Analysis\n",
    "#Getting the value of each transaction (invoice number)\n",
    "temp = online\n",
    "temp['ItemValue'] = online['Quantity'] * online['UnitPrice']\n",
    "temp = pd.DataFrame(online,columns=['CustomerID','ItemValue'])\n",
    "Customer_Monetary = temp.groupby('CustomerID').sum().reset_index()\n",
    "Customer_Monetary.rename(columns = {\"ItemValue\":\"MonetaryValue\"}, inplace = True)\n",
    "\n",
    "\n",
    "test = online[online['CustomerID'] == 12346.0]['ItemValue']\n",
    "print(test)\n",
    "print(Customer_Monetary.head(n=10))\n",
    "Customer_Monetary.shape #4372 rows, which matches the total number of Customers"
   ]
  },
  {
   "cell_type": "code",
   "execution_count": 13,
   "metadata": {},
   "outputs": [
    {
     "data": {
      "text/plain": [
       "1"
      ]
     },
     "execution_count": 13,
     "metadata": {},
     "output_type": "execute_result"
    }
   ],
   "source": [
    "online_eng = online\n",
    "online_eng = online_eng[online_eng['Quantity'] > 0 ]\n",
    "online_eng.Quantity.min()"
   ]
  },
  {
   "cell_type": "code",
   "execution_count": 14,
   "metadata": {},
   "outputs": [
    {
     "name": "stdout",
     "output_type": "stream",
     "text": [
      "      CustomerID  Recency\n",
      "0        12346.0      324\n",
      "1        12347.0        1\n",
      "2        12348.0       74\n",
      "3        12349.0       17\n",
      "4        12350.0      309\n",
      "...          ...      ...\n",
      "4334     18280.0      276\n",
      "4335     18281.0      179\n",
      "4336     18282.0        6\n",
      "4337     18283.0        2\n",
      "4338     18287.0       41\n",
      "\n",
      "[4339 rows x 2 columns]\n"
     ]
    }
   ],
   "source": [
    "# Recency Analysis\n",
    "# getting the recency of each transaction, will take the min per customer\n",
    "last = date(2011,12, 9)\n",
    "last = pd.to_datetime(last)\n",
    "temp = pd.DataFrame(online_eng,columns=['CustomerID','InvoiceDate'])\n",
    "LastTransaction = temp.groupby('CustomerID').InvoiceDate.max().reset_index()\n",
    "LastTransaction['Recency'] = (last - LastTransaction['InvoiceDate']).dt.days\n",
    "Customer_Recency = pd.DataFrame(LastTransaction,columns=['CustomerID','Recency'])\n",
    "# online['Recency'] = Customer_Recency['Recency']\n",
    "print(Customer_Recency)"
   ]
  },
  {
   "cell_type": "code",
   "execution_count": 15,
   "metadata": {},
   "outputs": [
    {
     "name": "stdout",
     "output_type": "stream",
     "text": [
      "      CustomerID  Frequency\n",
      "0        12346.0          1\n",
      "1        12347.0        182\n",
      "2        12348.0         31\n",
      "3        12349.0         73\n",
      "4        12350.0         17\n",
      "...          ...        ...\n",
      "4334     18280.0         10\n",
      "4335     18281.0          7\n",
      "4336     18282.0         12\n",
      "4337     18283.0        756\n",
      "4338     18287.0         70\n",
      "\n",
      "[4339 rows x 2 columns]\n"
     ]
    }
   ],
   "source": [
    "# Frequency analysis\n",
    "temp = pd.DataFrame(online_eng,columns=['CustomerID','InvoiceDate'])\n",
    "Customer_Frequency = temp.groupby('CustomerID').InvoiceDate.count().reset_index()\n",
    "Customer_Frequency.rename(columns = {\"InvoiceDate\":\"Frequency\"}, inplace = True)\n",
    "print(Customer_Frequency)"
   ]
  },
  {
   "cell_type": "code",
   "execution_count": 16,
   "metadata": {},
   "outputs": [
    {
     "name": "stdout",
     "output_type": "stream",
     "text": [
      "(4339, 4)\n",
      "   CustomerID  Recency  Frequency  MonetaryValue\n",
      "0     12346.0      324          1           0.00\n",
      "1     12347.0        1        182        4310.00\n",
      "2     12348.0       74         31        1797.24\n",
      "3     12349.0       17         73        1757.55\n",
      "4     12350.0      309         17         334.40\n",
      "5     12352.0       35         85        1545.41\n",
      "6     12353.0      203          4          89.00\n",
      "7     12354.0      231         58        1079.40\n",
      "8     12355.0      213         13         459.40\n",
      "9     12356.0       21         59        2811.43\n"
     ]
    }
   ],
   "source": [
    "RFM_data = Customer_Recency.merge(Customer_Frequency, on='CustomerID', how='left')\n",
    "RFM_data = RFM_data.merge(Customer_Monetary, on='CustomerID', how='left')\n",
    "print(RFM_data.shape)\n",
    "print(RFM_data.head(n=10))"
   ]
  },
  {
   "cell_type": "code",
   "execution_count": 17,
   "metadata": {},
   "outputs": [],
   "source": [
    "#Normalization makes training less sensitive to the scale of features, so we can better solve for coefficients.\n",
    "# features_to_normalize = ['Recency', 'Frequency', 'MonetaryValue']\n",
    "RFM = RFM_data.copy()\n",
    "# RFM_type2 = RFM_data.copy()\n",
    "# RFM_data_normalized = RFM_data.copy()\n",
    "# RFM_data_normalized[features_to_normalize] = RFM_data_normalized[features_to_normalize].apply(lambda x:(x-x.min()) / (x.max()-x.min()))"
   ]
  },
  {
   "cell_type": "code",
   "execution_count": 18,
   "metadata": {},
   "outputs": [
    {
     "name": "stdout",
     "output_type": "stream",
     "text": [
      "   CustomerID  Recency  Frequency  MonetaryValue\n",
      "0     12346.0      324          1           0.00\n",
      "1     12347.0        1        182        4310.00\n",
      "2     12348.0       74         31        1797.24\n",
      "3     12349.0       17         73        1757.55\n",
      "4     12350.0      309         17         334.40\n",
      "5     12352.0       35         85        1545.41\n",
      "6     12353.0      203          4          89.00\n",
      "7     12354.0      231         58        1079.40\n",
      "8     12355.0      213         13         459.40\n",
      "9     12356.0       21         59        2811.43\n"
     ]
    }
   ],
   "source": [
    "print(RFM.head(n=10))\n"
   ]
  },
  {
   "cell_type": "code",
   "execution_count": 19,
   "metadata": {},
   "outputs": [],
   "source": [
    "# print(RFM.head(n=10))"
   ]
  },
  {
   "cell_type": "markdown",
   "metadata": {},
   "source": [
    "## Clustering\n",
    "K-Means clustering is used.\n",
    "A two step process is used:\n",
    "1. Ranking R, F, and M to a scale of 5.\n",
    "2. Clustering on R, F, and M at the same time\n"
   ]
  },
  {
   "cell_type": "markdown",
   "metadata": {},
   "source": [
    "### Ranking"
   ]
  },
  {
   "cell_type": "code",
   "execution_count": 20,
   "metadata": {},
   "outputs": [],
   "source": [
    "#Create 5 segments\n",
    "segments = RFM.quantile(q=[0.20,0.4,0.6,0.8])\n",
    "segments = segments.to_dict()"
   ]
  },
  {
   "cell_type": "code",
   "execution_count": 21,
   "metadata": {},
   "outputs": [],
   "source": [
    "#Create a copy of the table to rank on.\n",
    "RFM_ranked = RFM.copy()"
   ]
  },
  {
   "cell_type": "code",
   "execution_count": 22,
   "metadata": {},
   "outputs": [],
   "source": [
    "def Recency_Score(val,index,df):\n",
    "    if val <= df[index][0.2]:\n",
    "        return 5\n",
    "    elif val <= df[index][0.4]:\n",
    "        return 4\n",
    "    elif val <= df[index][0.6]: \n",
    "        return 3\n",
    "    elif val <= df[index][0.8]: \n",
    "        return 2\n",
    "    else:\n",
    "        return 1\n",
    "    \n",
    "def Frequency_Score(val,index,df):\n",
    "    if val <= df[index][0.2]:\n",
    "        return 1\n",
    "    elif val <= df[index][0.4]:\n",
    "        return 2\n",
    "    elif val <= df[index][0.6]: \n",
    "        return 3\n",
    "    elif val <= df[index][0.8]: \n",
    "        return 4\n",
    "    else:\n",
    "        return 5\n",
    "    \n",
    "def Monetary_Score(val,index,df):\n",
    "    if val <= df[index][0.2]:\n",
    "        return 1\n",
    "    elif val <= df[index][0.4]:\n",
    "        return 2\n",
    "    elif val <= df[index][0.6]: \n",
    "        return 3\n",
    "    elif val <= df[index][0.8]: \n",
    "        return 4\n",
    "    else:\n",
    "        return 5"
   ]
  },
  {
   "cell_type": "code",
   "execution_count": 23,
   "metadata": {},
   "outputs": [
    {
     "data": {
      "text/html": [
       "<div>\n",
       "<style scoped>\n",
       "    .dataframe tbody tr th:only-of-type {\n",
       "        vertical-align: middle;\n",
       "    }\n",
       "\n",
       "    .dataframe tbody tr th {\n",
       "        vertical-align: top;\n",
       "    }\n",
       "\n",
       "    .dataframe thead th {\n",
       "        text-align: right;\n",
       "    }\n",
       "</style>\n",
       "<table border=\"1\" class=\"dataframe\">\n",
       "  <thead>\n",
       "    <tr style=\"text-align: right;\">\n",
       "      <th></th>\n",
       "      <th>CustomerID</th>\n",
       "      <th>Recency</th>\n",
       "      <th>Frequency</th>\n",
       "      <th>MonetaryValue</th>\n",
       "      <th>R_rank</th>\n",
       "      <th>F_rank</th>\n",
       "      <th>M_rank</th>\n",
       "    </tr>\n",
       "  </thead>\n",
       "  <tbody>\n",
       "    <tr>\n",
       "      <th>0</th>\n",
       "      <td>12346.0</td>\n",
       "      <td>324</td>\n",
       "      <td>1</td>\n",
       "      <td>0.00</td>\n",
       "      <td>1</td>\n",
       "      <td>1</td>\n",
       "      <td>1</td>\n",
       "    </tr>\n",
       "    <tr>\n",
       "      <th>1</th>\n",
       "      <td>12347.0</td>\n",
       "      <td>1</td>\n",
       "      <td>182</td>\n",
       "      <td>4310.00</td>\n",
       "      <td>5</td>\n",
       "      <td>5</td>\n",
       "      <td>5</td>\n",
       "    </tr>\n",
       "    <tr>\n",
       "      <th>2</th>\n",
       "      <td>12348.0</td>\n",
       "      <td>74</td>\n",
       "      <td>31</td>\n",
       "      <td>1797.24</td>\n",
       "      <td>2</td>\n",
       "      <td>3</td>\n",
       "      <td>4</td>\n",
       "    </tr>\n",
       "    <tr>\n",
       "      <th>3</th>\n",
       "      <td>12349.0</td>\n",
       "      <td>17</td>\n",
       "      <td>73</td>\n",
       "      <td>1757.55</td>\n",
       "      <td>4</td>\n",
       "      <td>4</td>\n",
       "      <td>4</td>\n",
       "    </tr>\n",
       "    <tr>\n",
       "      <th>4</th>\n",
       "      <td>12350.0</td>\n",
       "      <td>309</td>\n",
       "      <td>17</td>\n",
       "      <td>334.40</td>\n",
       "      <td>1</td>\n",
       "      <td>2</td>\n",
       "      <td>2</td>\n",
       "    </tr>\n",
       "  </tbody>\n",
       "</table>\n",
       "</div>"
      ],
      "text/plain": [
       "   CustomerID  Recency  Frequency  MonetaryValue  R_rank  F_rank  M_rank\n",
       "0     12346.0      324          1           0.00       1       1       1\n",
       "1     12347.0        1        182        4310.00       5       5       5\n",
       "2     12348.0       74         31        1797.24       2       3       4\n",
       "3     12349.0       17         73        1757.55       4       4       4\n",
       "4     12350.0      309         17         334.40       1       2       2"
      ]
     },
     "execution_count": 23,
     "metadata": {},
     "output_type": "execute_result"
    }
   ],
   "source": [
    "RFM_ranked['R_rank'] = RFM_ranked['Recency'].apply(Recency_Score, args=('Recency',segments,))\n",
    "RFM_ranked['F_rank'] = RFM_ranked['Frequency'].apply(Frequency_Score, args=('Frequency',segments,))\n",
    "RFM_ranked['M_rank'] = RFM_ranked['MonetaryValue'].apply(Monetary_Score, args=('MonetaryValue',segments,))\n",
    "RFM_ranked.head()"
   ]
  },
  {
   "cell_type": "code",
   "execution_count": 24,
   "metadata": {},
   "outputs": [
    {
     "data": {
      "text/html": [
       "<div>\n",
       "<style scoped>\n",
       "    .dataframe tbody tr th:only-of-type {\n",
       "        vertical-align: middle;\n",
       "    }\n",
       "\n",
       "    .dataframe tbody tr th {\n",
       "        vertical-align: top;\n",
       "    }\n",
       "\n",
       "    .dataframe thead th {\n",
       "        text-align: right;\n",
       "    }\n",
       "</style>\n",
       "<table border=\"1\" class=\"dataframe\">\n",
       "  <thead>\n",
       "    <tr style=\"text-align: right;\">\n",
       "      <th></th>\n",
       "      <th>CustomerID</th>\n",
       "      <th>Recency</th>\n",
       "      <th>Frequency</th>\n",
       "      <th>MonetaryValue</th>\n",
       "      <th>R_rank</th>\n",
       "      <th>F_rank</th>\n",
       "      <th>M_rank</th>\n",
       "      <th>Combined_rank</th>\n",
       "    </tr>\n",
       "  </thead>\n",
       "  <tbody>\n",
       "    <tr>\n",
       "      <th>0</th>\n",
       "      <td>12346.0</td>\n",
       "      <td>324</td>\n",
       "      <td>1</td>\n",
       "      <td>0.00</td>\n",
       "      <td>1</td>\n",
       "      <td>1</td>\n",
       "      <td>1</td>\n",
       "      <td>3</td>\n",
       "    </tr>\n",
       "    <tr>\n",
       "      <th>1</th>\n",
       "      <td>12347.0</td>\n",
       "      <td>1</td>\n",
       "      <td>182</td>\n",
       "      <td>4310.00</td>\n",
       "      <td>5</td>\n",
       "      <td>5</td>\n",
       "      <td>5</td>\n",
       "      <td>15</td>\n",
       "    </tr>\n",
       "    <tr>\n",
       "      <th>2</th>\n",
       "      <td>12348.0</td>\n",
       "      <td>74</td>\n",
       "      <td>31</td>\n",
       "      <td>1797.24</td>\n",
       "      <td>2</td>\n",
       "      <td>3</td>\n",
       "      <td>4</td>\n",
       "      <td>9</td>\n",
       "    </tr>\n",
       "    <tr>\n",
       "      <th>3</th>\n",
       "      <td>12349.0</td>\n",
       "      <td>17</td>\n",
       "      <td>73</td>\n",
       "      <td>1757.55</td>\n",
       "      <td>4</td>\n",
       "      <td>4</td>\n",
       "      <td>4</td>\n",
       "      <td>12</td>\n",
       "    </tr>\n",
       "    <tr>\n",
       "      <th>4</th>\n",
       "      <td>12350.0</td>\n",
       "      <td>309</td>\n",
       "      <td>17</td>\n",
       "      <td>334.40</td>\n",
       "      <td>1</td>\n",
       "      <td>2</td>\n",
       "      <td>2</td>\n",
       "      <td>5</td>\n",
       "    </tr>\n",
       "  </tbody>\n",
       "</table>\n",
       "</div>"
      ],
      "text/plain": [
       "   CustomerID  Recency  Frequency  MonetaryValue  R_rank  F_rank  M_rank  \\\n",
       "0     12346.0      324          1           0.00       1       1       1   \n",
       "1     12347.0        1        182        4310.00       5       5       5   \n",
       "2     12348.0       74         31        1797.24       2       3       4   \n",
       "3     12349.0       17         73        1757.55       4       4       4   \n",
       "4     12350.0      309         17         334.40       1       2       2   \n",
       "\n",
       "   Combined_rank  \n",
       "0              3  \n",
       "1             15  \n",
       "2              9  \n",
       "3             12  \n",
       "4              5  "
      ]
     },
     "execution_count": 24,
     "metadata": {},
     "output_type": "execute_result"
    }
   ],
   "source": [
    "# Create a combined ranking by summing R F and M.\n",
    "RFM_ranked['Combined_rank'] = RFM_ranked.R_rank + RFM_ranked.F_rank + RFM_ranked.M_rank\n",
    "RFM_ranked.head()"
   ]
  },
  {
   "cell_type": "code",
   "execution_count": 25,
   "metadata": {},
   "outputs": [
    {
     "data": {
      "text/html": [
       "<div>\n",
       "<style scoped>\n",
       "    .dataframe tbody tr th:only-of-type {\n",
       "        vertical-align: middle;\n",
       "    }\n",
       "\n",
       "    .dataframe tbody tr th {\n",
       "        vertical-align: top;\n",
       "    }\n",
       "\n",
       "    .dataframe thead th {\n",
       "        text-align: right;\n",
       "    }\n",
       "</style>\n",
       "<table border=\"1\" class=\"dataframe\">\n",
       "  <thead>\n",
       "    <tr style=\"text-align: right;\">\n",
       "      <th></th>\n",
       "      <th>CustomerID</th>\n",
       "      <th>Recency</th>\n",
       "      <th>Frequency</th>\n",
       "      <th>MonetaryValue</th>\n",
       "      <th>R_rank</th>\n",
       "      <th>F_rank</th>\n",
       "      <th>M_rank</th>\n",
       "      <th>Combined_rank</th>\n",
       "      <th>Combined_rank_Labeled</th>\n",
       "    </tr>\n",
       "  </thead>\n",
       "  <tbody>\n",
       "    <tr>\n",
       "      <th>0</th>\n",
       "      <td>12346.0</td>\n",
       "      <td>324</td>\n",
       "      <td>1</td>\n",
       "      <td>0.00</td>\n",
       "      <td>1</td>\n",
       "      <td>1</td>\n",
       "      <td>1</td>\n",
       "      <td>3</td>\n",
       "      <td>Worst</td>\n",
       "    </tr>\n",
       "    <tr>\n",
       "      <th>1</th>\n",
       "      <td>12347.0</td>\n",
       "      <td>1</td>\n",
       "      <td>182</td>\n",
       "      <td>4310.00</td>\n",
       "      <td>5</td>\n",
       "      <td>5</td>\n",
       "      <td>5</td>\n",
       "      <td>15</td>\n",
       "      <td>Best</td>\n",
       "    </tr>\n",
       "    <tr>\n",
       "      <th>2</th>\n",
       "      <td>12348.0</td>\n",
       "      <td>74</td>\n",
       "      <td>31</td>\n",
       "      <td>1797.24</td>\n",
       "      <td>2</td>\n",
       "      <td>3</td>\n",
       "      <td>4</td>\n",
       "      <td>9</td>\n",
       "      <td>Medium</td>\n",
       "    </tr>\n",
       "    <tr>\n",
       "      <th>3</th>\n",
       "      <td>12349.0</td>\n",
       "      <td>17</td>\n",
       "      <td>73</td>\n",
       "      <td>1757.55</td>\n",
       "      <td>4</td>\n",
       "      <td>4</td>\n",
       "      <td>4</td>\n",
       "      <td>12</td>\n",
       "      <td>Best</td>\n",
       "    </tr>\n",
       "    <tr>\n",
       "      <th>4</th>\n",
       "      <td>12350.0</td>\n",
       "      <td>309</td>\n",
       "      <td>17</td>\n",
       "      <td>334.40</td>\n",
       "      <td>1</td>\n",
       "      <td>2</td>\n",
       "      <td>2</td>\n",
       "      <td>5</td>\n",
       "      <td>Worst</td>\n",
       "    </tr>\n",
       "  </tbody>\n",
       "</table>\n",
       "</div>"
      ],
      "text/plain": [
       "   CustomerID  Recency  Frequency  MonetaryValue  R_rank  F_rank  M_rank  \\\n",
       "0     12346.0      324          1           0.00       1       1       1   \n",
       "1     12347.0        1        182        4310.00       5       5       5   \n",
       "2     12348.0       74         31        1797.24       2       3       4   \n",
       "3     12349.0       17         73        1757.55       4       4       4   \n",
       "4     12350.0      309         17         334.40       1       2       2   \n",
       "\n",
       "   Combined_rank Combined_rank_Labeled  \n",
       "0              3                 Worst  \n",
       "1             15                  Best  \n",
       "2              9                Medium  \n",
       "3             12                  Best  \n",
       "4              5                 Worst  "
      ]
     },
     "execution_count": 25,
     "metadata": {},
     "output_type": "execute_result"
    }
   ],
   "source": [
    "#Discretize combined rank into 3 groups\n",
    "bins = ['Worst','Medium','Best']\n",
    "RFM_ranked['Combined_rank_Labeled'] = pd.qcut(RFM_ranked['Combined_rank'], q= 3,labels =  bins)\n",
    "RFM_ranked.head()"
   ]
  },
  {
   "cell_type": "markdown",
   "metadata": {},
   "source": [
    "### K-Means Clustering"
   ]
  },
  {
   "cell_type": "code",
   "execution_count": 26,
   "metadata": {},
   "outputs": [],
   "source": [
    "#Normalize data\n",
    "features_to_normalize = ['Recency', 'Frequency', 'MonetaryValue']\n",
    "RFM_data_normalized = RFM_ranked.copy()\n",
    "RFM_data_normalized[features_to_normalize] = RFM_data_normalized[features_to_normalize].apply(lambda x:(x-x.min()) / (x.max()-x.min()))"
   ]
  },
  {
   "cell_type": "code",
   "execution_count": 27,
   "metadata": {},
   "outputs": [
    {
     "data": {
      "text/html": [
       "<div>\n",
       "<style scoped>\n",
       "    .dataframe tbody tr th:only-of-type {\n",
       "        vertical-align: middle;\n",
       "    }\n",
       "\n",
       "    .dataframe tbody tr th {\n",
       "        vertical-align: top;\n",
       "    }\n",
       "\n",
       "    .dataframe thead th {\n",
       "        text-align: right;\n",
       "    }\n",
       "</style>\n",
       "<table border=\"1\" class=\"dataframe\">\n",
       "  <thead>\n",
       "    <tr style=\"text-align: right;\">\n",
       "      <th></th>\n",
       "      <th>CustomerID</th>\n",
       "      <th>Recency</th>\n",
       "      <th>Frequency</th>\n",
       "      <th>MonetaryValue</th>\n",
       "      <th>R_rank</th>\n",
       "      <th>F_rank</th>\n",
       "      <th>M_rank</th>\n",
       "      <th>Combined_rank</th>\n",
       "      <th>Combined_rank_Labeled</th>\n",
       "    </tr>\n",
       "  </thead>\n",
       "  <tbody>\n",
       "    <tr>\n",
       "      <th>0</th>\n",
       "      <td>12346.0</td>\n",
       "      <td>0.871314</td>\n",
       "      <td>0.000000</td>\n",
       "      <td>0.004152</td>\n",
       "      <td>1</td>\n",
       "      <td>1</td>\n",
       "      <td>1</td>\n",
       "      <td>3</td>\n",
       "      <td>Worst</td>\n",
       "    </tr>\n",
       "    <tr>\n",
       "      <th>1</th>\n",
       "      <td>12347.0</td>\n",
       "      <td>0.005362</td>\n",
       "      <td>0.023069</td>\n",
       "      <td>0.019509</td>\n",
       "      <td>5</td>\n",
       "      <td>5</td>\n",
       "      <td>5</td>\n",
       "      <td>15</td>\n",
       "      <td>Best</td>\n",
       "    </tr>\n",
       "    <tr>\n",
       "      <th>2</th>\n",
       "      <td>12348.0</td>\n",
       "      <td>0.201072</td>\n",
       "      <td>0.003824</td>\n",
       "      <td>0.010556</td>\n",
       "      <td>2</td>\n",
       "      <td>3</td>\n",
       "      <td>4</td>\n",
       "      <td>9</td>\n",
       "      <td>Medium</td>\n",
       "    </tr>\n",
       "    <tr>\n",
       "      <th>3</th>\n",
       "      <td>12349.0</td>\n",
       "      <td>0.048257</td>\n",
       "      <td>0.009177</td>\n",
       "      <td>0.010414</td>\n",
       "      <td>4</td>\n",
       "      <td>4</td>\n",
       "      <td>4</td>\n",
       "      <td>12</td>\n",
       "      <td>Best</td>\n",
       "    </tr>\n",
       "    <tr>\n",
       "      <th>4</th>\n",
       "      <td>12350.0</td>\n",
       "      <td>0.831099</td>\n",
       "      <td>0.002039</td>\n",
       "      <td>0.005344</td>\n",
       "      <td>1</td>\n",
       "      <td>2</td>\n",
       "      <td>2</td>\n",
       "      <td>5</td>\n",
       "      <td>Worst</td>\n",
       "    </tr>\n",
       "  </tbody>\n",
       "</table>\n",
       "</div>"
      ],
      "text/plain": [
       "   CustomerID   Recency  Frequency  MonetaryValue  R_rank  F_rank  M_rank  \\\n",
       "0     12346.0  0.871314   0.000000       0.004152       1       1       1   \n",
       "1     12347.0  0.005362   0.023069       0.019509       5       5       5   \n",
       "2     12348.0  0.201072   0.003824       0.010556       2       3       4   \n",
       "3     12349.0  0.048257   0.009177       0.010414       4       4       4   \n",
       "4     12350.0  0.831099   0.002039       0.005344       1       2       2   \n",
       "\n",
       "   Combined_rank Combined_rank_Labeled  \n",
       "0              3                 Worst  \n",
       "1             15                  Best  \n",
       "2              9                Medium  \n",
       "3             12                  Best  \n",
       "4              5                 Worst  "
      ]
     },
     "execution_count": 27,
     "metadata": {},
     "output_type": "execute_result"
    }
   ],
   "source": [
    "RFM_data_normalized.head()"
   ]
  },
  {
   "cell_type": "markdown",
   "metadata": {},
   "source": [
    "### Determining Number of Clusters\n",
    "We Can do this using the elbow method."
   ]
  },
  {
   "cell_type": "code",
   "execution_count": 28,
   "metadata": {},
   "outputs": [
    {
     "data": {
      "image/png": "[encoded data removed]",
      "text/plain": [
       "<Figure size 432x288 with 1 Axes>"
      ]
     },
     "metadata": {
      "needs_background": "light"
     },
     "output_type": "display_data"
    }
   ],
   "source": [
    "#Clustering using all 1 variable at once\n",
    "\n",
    "#This serves to test the processed data set. Whether or not there is good intra-cluster and inter-cluster distances\n",
    "\n",
    "#Determine number of clusters\n",
    "Sum_of_squared_distances = []\n",
    "K = range(1,15)\n",
    "for k in K:\n",
    "    km = KMeans(n_clusters=k, max_iter=1000).fit(RFM_data_normalized[['Recency']])\n",
    "    Sum_of_squared_distances.append(km.inertia_)\n",
    "plt.plot(K, Sum_of_squared_distances, 'bx-')\n",
    "plt.xlabel('k')\n",
    "plt.ylabel('Sum_of_squared_distances')\n",
    "plt.title('Elbow Method For Optimal k')\n",
    "plt.show()"
   ]
  },
  {
   "cell_type": "code",
   "execution_count": 29,
   "metadata": {},
   "outputs": [],
   "source": [
    "from sklearn.cluster import KMeans\n",
    "\n",
    "#Add cluster to un-normalized data to increase interpretability \n",
    "RFM_clustered = RFM_ranked.copy()\n",
    "\n",
    "#Clustering using all 3 variables at the same time.\n",
    "km = KMeans(n_clusters = 3,max_iter=2000, n_init=1, verbose=0, random_state=3425)\n",
    "predicted_cluster = km.fit_predict(RFM_data_normalized[['Recency','Frequency','MonetaryValue','Combined_rank']])\n",
    "RFM_clustered['Cluster'] = predicted_cluster\n",
    "total_customers = RFM_clustered[\"CustomerID\"].nunique()"
   ]
  },
  {
   "cell_type": "code",
   "execution_count": 30,
   "metadata": {},
   "outputs": [
    {
     "data": {
      "text/html": [
       "<div>\n",
       "<style scoped>\n",
       "    .dataframe tbody tr th:only-of-type {\n",
       "        vertical-align: middle;\n",
       "    }\n",
       "\n",
       "    .dataframe tbody tr th {\n",
       "        vertical-align: top;\n",
       "    }\n",
       "\n",
       "    .dataframe thead th {\n",
       "        text-align: right;\n",
       "    }\n",
       "</style>\n",
       "<table border=\"1\" class=\"dataframe\">\n",
       "  <thead>\n",
       "    <tr style=\"text-align: right;\">\n",
       "      <th></th>\n",
       "      <th>CustomerID</th>\n",
       "      <th>Recency</th>\n",
       "      <th>Frequency</th>\n",
       "      <th>MonetaryValue</th>\n",
       "      <th>R_rank</th>\n",
       "      <th>F_rank</th>\n",
       "      <th>M_rank</th>\n",
       "      <th>Combined_rank</th>\n",
       "      <th>Combined_rank_Labeled</th>\n",
       "      <th>Cluster</th>\n",
       "    </tr>\n",
       "  </thead>\n",
       "  <tbody>\n",
       "    <tr>\n",
       "      <th>0</th>\n",
       "      <td>12346.0</td>\n",
       "      <td>324</td>\n",
       "      <td>1</td>\n",
       "      <td>0.00</td>\n",
       "      <td>1</td>\n",
       "      <td>1</td>\n",
       "      <td>1</td>\n",
       "      <td>3</td>\n",
       "      <td>Worst</td>\n",
       "      <td>0</td>\n",
       "    </tr>\n",
       "    <tr>\n",
       "      <th>1</th>\n",
       "      <td>12347.0</td>\n",
       "      <td>1</td>\n",
       "      <td>182</td>\n",
       "      <td>4310.00</td>\n",
       "      <td>5</td>\n",
       "      <td>5</td>\n",
       "      <td>5</td>\n",
       "      <td>15</td>\n",
       "      <td>Best</td>\n",
       "      <td>1</td>\n",
       "    </tr>\n",
       "    <tr>\n",
       "      <th>2</th>\n",
       "      <td>12348.0</td>\n",
       "      <td>74</td>\n",
       "      <td>31</td>\n",
       "      <td>1797.24</td>\n",
       "      <td>2</td>\n",
       "      <td>3</td>\n",
       "      <td>4</td>\n",
       "      <td>9</td>\n",
       "      <td>Medium</td>\n",
       "      <td>2</td>\n",
       "    </tr>\n",
       "    <tr>\n",
       "      <th>3</th>\n",
       "      <td>12349.0</td>\n",
       "      <td>17</td>\n",
       "      <td>73</td>\n",
       "      <td>1757.55</td>\n",
       "      <td>4</td>\n",
       "      <td>4</td>\n",
       "      <td>4</td>\n",
       "      <td>12</td>\n",
       "      <td>Best</td>\n",
       "      <td>1</td>\n",
       "    </tr>\n",
       "    <tr>\n",
       "      <th>4</th>\n",
       "      <td>12350.0</td>\n",
       "      <td>309</td>\n",
       "      <td>17</td>\n",
       "      <td>334.40</td>\n",
       "      <td>1</td>\n",
       "      <td>2</td>\n",
       "      <td>2</td>\n",
       "      <td>5</td>\n",
       "      <td>Worst</td>\n",
       "      <td>0</td>\n",
       "    </tr>\n",
       "    <tr>\n",
       "      <th>5</th>\n",
       "      <td>12352.0</td>\n",
       "      <td>35</td>\n",
       "      <td>85</td>\n",
       "      <td>1545.41</td>\n",
       "      <td>3</td>\n",
       "      <td>4</td>\n",
       "      <td>4</td>\n",
       "      <td>11</td>\n",
       "      <td>Medium</td>\n",
       "      <td>1</td>\n",
       "    </tr>\n",
       "    <tr>\n",
       "      <th>6</th>\n",
       "      <td>12353.0</td>\n",
       "      <td>203</td>\n",
       "      <td>4</td>\n",
       "      <td>89.00</td>\n",
       "      <td>1</td>\n",
       "      <td>1</td>\n",
       "      <td>1</td>\n",
       "      <td>3</td>\n",
       "      <td>Worst</td>\n",
       "      <td>0</td>\n",
       "    </tr>\n",
       "    <tr>\n",
       "      <th>7</th>\n",
       "      <td>12354.0</td>\n",
       "      <td>231</td>\n",
       "      <td>58</td>\n",
       "      <td>1079.40</td>\n",
       "      <td>1</td>\n",
       "      <td>3</td>\n",
       "      <td>4</td>\n",
       "      <td>8</td>\n",
       "      <td>Medium</td>\n",
       "      <td>2</td>\n",
       "    </tr>\n",
       "    <tr>\n",
       "      <th>8</th>\n",
       "      <td>12355.0</td>\n",
       "      <td>213</td>\n",
       "      <td>13</td>\n",
       "      <td>459.40</td>\n",
       "      <td>1</td>\n",
       "      <td>1</td>\n",
       "      <td>2</td>\n",
       "      <td>4</td>\n",
       "      <td>Worst</td>\n",
       "      <td>0</td>\n",
       "    </tr>\n",
       "    <tr>\n",
       "      <th>9</th>\n",
       "      <td>12356.0</td>\n",
       "      <td>21</td>\n",
       "      <td>59</td>\n",
       "      <td>2811.43</td>\n",
       "      <td>4</td>\n",
       "      <td>4</td>\n",
       "      <td>5</td>\n",
       "      <td>13</td>\n",
       "      <td>Best</td>\n",
       "      <td>1</td>\n",
       "    </tr>\n",
       "  </tbody>\n",
       "</table>\n",
       "</div>"
      ],
      "text/plain": [
       "   CustomerID  Recency  Frequency  MonetaryValue  R_rank  F_rank  M_rank  \\\n",
       "0     12346.0      324          1           0.00       1       1       1   \n",
       "1     12347.0        1        182        4310.00       5       5       5   \n",
       "2     12348.0       74         31        1797.24       2       3       4   \n",
       "3     12349.0       17         73        1757.55       4       4       4   \n",
       "4     12350.0      309         17         334.40       1       2       2   \n",
       "5     12352.0       35         85        1545.41       3       4       4   \n",
       "6     12353.0      203          4          89.00       1       1       1   \n",
       "7     12354.0      231         58        1079.40       1       3       4   \n",
       "8     12355.0      213         13         459.40       1       1       2   \n",
       "9     12356.0       21         59        2811.43       4       4       5   \n",
       "\n",
       "   Combined_rank Combined_rank_Labeled  Cluster  \n",
       "0              3                 Worst        0  \n",
       "1             15                  Best        1  \n",
       "2              9                Medium        2  \n",
       "3             12                  Best        1  \n",
       "4              5                 Worst        0  \n",
       "5             11                Medium        1  \n",
       "6              3                 Worst        0  \n",
       "7              8                Medium        2  \n",
       "8              4                 Worst        0  \n",
       "9             13                  Best        1  "
      ]
     },
     "execution_count": 30,
     "metadata": {},
     "output_type": "execute_result"
    }
   ],
   "source": [
    "RFM_clustered.head(n=10)\n"
   ]
  },
  {
   "cell_type": "markdown",
   "metadata": {},
   "source": [
    "Split the data by clusters and do analysis per cluster"
   ]
  },
  {
   "cell_type": "code",
   "execution_count": 31,
   "metadata": {},
   "outputs": [],
   "source": [
    "cluster0 = RFM_clustered[RFM_clustered['Cluster'] == 0]\n",
    "cluster1 = RFM_clustered[RFM_clustered['Cluster'] == 1]\n",
    "cluster2 = RFM_clustered[RFM_clustered['Cluster'] == 2]"
   ]
  },
  {
   "cell_type": "markdown",
   "metadata": {},
   "source": []
  },
  {
   "cell_type": "markdown",
   "metadata": {},
   "source": [
    "#### Results\n",
    "\n",
    "- Show the distribution of the customers within each cluster (Ratio & Percentage of customers per cluster divided by the total number of customers)\n",
    "It's clear that cluster 0 is \"Worst\" cluster 2 is \"Medium\" and cluster 3 is \"Best\". "
   ]
  },
  {
   "cell_type": "code",
   "execution_count": 32,
   "metadata": {},
   "outputs": [
    {
     "data": {
      "text/html": [
       "<div>\n",
       "<style scoped>\n",
       "    .dataframe tbody tr th:only-of-type {\n",
       "        vertical-align: middle;\n",
       "    }\n",
       "\n",
       "    .dataframe tbody tr th {\n",
       "        vertical-align: top;\n",
       "    }\n",
       "\n",
       "    .dataframe thead th {\n",
       "        text-align: right;\n",
       "    }\n",
       "</style>\n",
       "<table border=\"1\" class=\"dataframe\">\n",
       "  <thead>\n",
       "    <tr style=\"text-align: right;\">\n",
       "      <th></th>\n",
       "      <th></th>\n",
       "      <th>CustomerID</th>\n",
       "    </tr>\n",
       "    <tr>\n",
       "      <th>Cluster</th>\n",
       "      <th>Combined_rank_Labeled</th>\n",
       "      <th></th>\n",
       "    </tr>\n",
       "  </thead>\n",
       "  <tbody>\n",
       "    <tr>\n",
       "      <th>0</th>\n",
       "      <th>Worst</th>\n",
       "      <td>1287</td>\n",
       "    </tr>\n",
       "    <tr>\n",
       "      <th rowspan=\"2\" valign=\"top\">1</th>\n",
       "      <th>Medium</th>\n",
       "      <td>335</td>\n",
       "    </tr>\n",
       "    <tr>\n",
       "      <th>Best</th>\n",
       "      <td>1258</td>\n",
       "    </tr>\n",
       "    <tr>\n",
       "      <th rowspan=\"2\" valign=\"top\">2</th>\n",
       "      <th>Worst</th>\n",
       "      <td>374</td>\n",
       "    </tr>\n",
       "    <tr>\n",
       "      <th>Medium</th>\n",
       "      <td>1085</td>\n",
       "    </tr>\n",
       "  </tbody>\n",
       "</table>\n",
       "</div>"
      ],
      "text/plain": [
       "                               CustomerID\n",
       "Cluster Combined_rank_Labeled            \n",
       "0       Worst                        1287\n",
       "1       Medium                        335\n",
       "        Best                         1258\n",
       "2       Worst                         374\n",
       "        Medium                       1085"
      ]
     },
     "execution_count": 32,
     "metadata": {},
     "output_type": "execute_result"
    }
   ],
   "source": [
    "label = RFM_clustered.groupby(['Cluster', 'Combined_rank_Labeled'])['CustomerID'].nunique().to_frame()\n",
    "label"
   ]
  },
  {
   "cell_type": "markdown",
   "metadata": {},
   "source": [
    "- Show the statistics of each cluster (Min, Max, Median of clustering RFM attributes)"
   ]
  },
  {
   "cell_type": "code",
   "execution_count": 33,
   "metadata": {},
   "outputs": [
    {
     "data": {
      "text/html": [
       "<div>\n",
       "<style scoped>\n",
       "    .dataframe tbody tr th:only-of-type {\n",
       "        vertical-align: middle;\n",
       "    }\n",
       "\n",
       "    .dataframe tbody tr th {\n",
       "        vertical-align: top;\n",
       "    }\n",
       "\n",
       "    .dataframe thead tr th {\n",
       "        text-align: left;\n",
       "    }\n",
       "\n",
       "    .dataframe thead tr:last-of-type th {\n",
       "        text-align: right;\n",
       "    }\n",
       "</style>\n",
       "<table border=\"1\" class=\"dataframe\">\n",
       "  <thead>\n",
       "    <tr>\n",
       "      <th></th>\n",
       "      <th colspan=\"8\" halign=\"left\">Recency</th>\n",
       "      <th colspan=\"5\" halign=\"left\">Frequency</th>\n",
       "      <th colspan=\"8\" halign=\"left\">MonetaryValue</th>\n",
       "    </tr>\n",
       "    <tr>\n",
       "      <th></th>\n",
       "      <th>count</th>\n",
       "      <th>mean</th>\n",
       "      <th>std</th>\n",
       "      <th>min</th>\n",
       "      <th>25%</th>\n",
       "      <th>50%</th>\n",
       "      <th>75%</th>\n",
       "      <th>max</th>\n",
       "      <th>count</th>\n",
       "      <th>mean</th>\n",
       "      <th>...</th>\n",
       "      <th>75%</th>\n",
       "      <th>max</th>\n",
       "      <th>count</th>\n",
       "      <th>mean</th>\n",
       "      <th>std</th>\n",
       "      <th>min</th>\n",
       "      <th>25%</th>\n",
       "      <th>50%</th>\n",
       "      <th>75%</th>\n",
       "      <th>max</th>\n",
       "    </tr>\n",
       "    <tr>\n",
       "      <th>Cluster</th>\n",
       "      <th></th>\n",
       "      <th></th>\n",
       "      <th></th>\n",
       "      <th></th>\n",
       "      <th></th>\n",
       "      <th></th>\n",
       "      <th></th>\n",
       "      <th></th>\n",
       "      <th></th>\n",
       "      <th></th>\n",
       "      <th></th>\n",
       "      <th></th>\n",
       "      <th></th>\n",
       "      <th></th>\n",
       "      <th></th>\n",
       "      <th></th>\n",
       "      <th></th>\n",
       "      <th></th>\n",
       "      <th></th>\n",
       "      <th></th>\n",
       "      <th></th>\n",
       "    </tr>\n",
       "  </thead>\n",
       "  <tbody>\n",
       "    <tr>\n",
       "      <th>0</th>\n",
       "      <td>1287.0</td>\n",
       "      <td>187.834499</td>\n",
       "      <td>104.759644</td>\n",
       "      <td>13.0</td>\n",
       "      <td>87.0</td>\n",
       "      <td>191.0</td>\n",
       "      <td>272.0</td>\n",
       "      <td>372.0</td>\n",
       "      <td>1287.0</td>\n",
       "      <td>14.241647</td>\n",
       "      <td>...</td>\n",
       "      <td>20.0</td>\n",
       "      <td>77.0</td>\n",
       "      <td>1287.0</td>\n",
       "      <td>253.974002</td>\n",
       "      <td>195.726167</td>\n",
       "      <td>-1.165300e+03</td>\n",
       "      <td>134.75</td>\n",
       "      <td>215.08</td>\n",
       "      <td>332.745</td>\n",
       "      <td>2002.40</td>\n",
       "    </tr>\n",
       "    <tr>\n",
       "      <th>1</th>\n",
       "      <td>1593.0</td>\n",
       "      <td>23.613308</td>\n",
       "      <td>31.710113</td>\n",
       "      <td>-1.0</td>\n",
       "      <td>4.0</td>\n",
       "      <td>15.0</td>\n",
       "      <td>30.0</td>\n",
       "      <td>371.0</td>\n",
       "      <td>1593.0</td>\n",
       "      <td>198.973007</td>\n",
       "      <td>...</td>\n",
       "      <td>216.0</td>\n",
       "      <td>7847.0</td>\n",
       "      <td>1593.0</td>\n",
       "      <td>4311.706592</td>\n",
       "      <td>13244.362738</td>\n",
       "      <td>2.497200e+02</td>\n",
       "      <td>1214.72</td>\n",
       "      <td>2089.85</td>\n",
       "      <td>3645.430</td>\n",
       "      <td>279489.02</td>\n",
       "    </tr>\n",
       "    <tr>\n",
       "      <th>2</th>\n",
       "      <td>1459.0</td>\n",
       "      <td>79.280329</td>\n",
       "      <td>74.858661</td>\n",
       "      <td>-1.0</td>\n",
       "      <td>25.0</td>\n",
       "      <td>57.0</td>\n",
       "      <td>106.0</td>\n",
       "      <td>372.0</td>\n",
       "      <td>1459.0</td>\n",
       "      <td>42.927347</td>\n",
       "      <td>...</td>\n",
       "      <td>55.0</td>\n",
       "      <td>238.0</td>\n",
       "      <td>1459.0</td>\n",
       "      <td>764.265875</td>\n",
       "      <td>895.870255</td>\n",
       "      <td>2.664535e-14</td>\n",
       "      <td>372.70</td>\n",
       "      <td>600.39</td>\n",
       "      <td>891.795</td>\n",
       "      <td>21535.90</td>\n",
       "    </tr>\n",
       "  </tbody>\n",
       "</table>\n",
       "<p>3 rows × 24 columns</p>\n",
       "</div>"
      ],
      "text/plain": [
       "        Recency                                                           \\\n",
       "          count        mean         std   min   25%    50%    75%    max   \n",
       "Cluster                                                                    \n",
       "0        1287.0  187.834499  104.759644  13.0  87.0  191.0  272.0  372.0   \n",
       "1        1593.0   23.613308   31.710113  -1.0   4.0   15.0   30.0  371.0   \n",
       "2        1459.0   79.280329   74.858661  -1.0  25.0   57.0  106.0  372.0   \n",
       "\n",
       "        Frequency              ...                MonetaryValue               \\\n",
       "            count        mean  ...    75%     max         count         mean   \n",
       "Cluster                        ...                                             \n",
       "0          1287.0   14.241647  ...   20.0    77.0        1287.0   253.974002   \n",
       "1          1593.0  198.973007  ...  216.0  7847.0        1593.0  4311.706592   \n",
       "2          1459.0   42.927347  ...   55.0   238.0        1459.0   764.265875   \n",
       "\n",
       "                                                                            \n",
       "                  std           min      25%      50%       75%        max  \n",
       "Cluster                                                                     \n",
       "0          195.726167 -1.165300e+03   134.75   215.08   332.745    2002.40  \n",
       "1        13244.362738  2.497200e+02  1214.72  2089.85  3645.430  279489.02  \n",
       "2          895.870255  2.664535e-14   372.70   600.39   891.795   21535.90  \n",
       "\n",
       "[3 rows x 24 columns]"
      ]
     },
     "execution_count": 33,
     "metadata": {},
     "output_type": "execute_result"
    }
   ],
   "source": [
    "description = RFM_clustered.groupby('Cluster')[['Recency','Frequency','MonetaryValue']].describe()\n",
    "description"
   ]
  },
  {
   "cell_type": "markdown",
   "metadata": {},
   "source": [
    "- Describe the distinct features of each cluster. For example, a cluster identifies the least or most profitable customer group, the loyal (most frequent) group, old customers with no recent purchases (low recency, high frequency and medium monetary), or potential highly profitable customers (recent and medium monetary)."
   ]
  },
  {
   "cell_type": "code",
   "execution_count": 34,
   "metadata": {},
   "outputs": [],
   "source": [
    "stats = RFM_clustered.groupby(['Cluster','R_rank', 'F_rank', 'M_rank'])['CustomerID'].nunique().to_frame()\n",
    "stats['Share'] = stats['CustomerID'] / total_customers*100\n",
    "stats.reset_index(inplace=True)\n",
    "stats.to_csv(\"../stats.csv\")"
   ]
  },
  {
   "cell_type": "markdown",
   "metadata": {},
   "source": [
    "We can see that cluster 0, which is for the worst customers, contains zero occurances of score 5 attributes. The cluster representing the medium customers has a mixed distribution of all scores, but very few which score 5 an no occureances of 5 in more than one catergory. The best cluster has mainly scores of 4 and 5. "
   ]
  },
  {
   "cell_type": "code",
   "execution_count": 35,
   "metadata": {},
   "outputs": [
    {
     "data": {
      "image/png": "[encoded data removed]",
      "text/plain": [
       "<Figure size 432x288 with 1 Axes>"
      ]
     },
     "metadata": {
      "needs_background": "light"
     },
     "output_type": "display_data"
    }
   ],
   "source": [
    "from mpl_toolkits.mplot3d import Axes3D\n",
    "import matplotlib.pyplot as plt\n",
    "\n",
    "fig = plt.figure()\n",
    "ax = fig.add_subplot(111, projection='3d')\n",
    "\n",
    "\n",
    "xs = list(RFM_clustered['R_rank'])\n",
    "ys = list(RFM_clustered['F_rank'])\n",
    "zs = list(RFM_clustered['M_rank'])\n",
    "c = list(RFM_clustered['Cluster'])\n",
    "\n",
    "\n",
    "\n",
    "ax.scatter(xs, ys, zs, c = c)\n",
    "         \n",
    "ax.set_xlabel('R_rank')\n",
    "ax.set_ylabel('F_rank')\n",
    "ax.set_zlabel('M_rank')\n",
    "\n",
    "plt.show()\n",
    "ax.get_figure().savefig('../3d.png')"
   ]
  },
  {
   "cell_type": "markdown",
   "metadata": {},
   "source": [
    "The plot shows very clear lines of division for each cluster, there are no ambiguous data points. "
   ]
  },
  {
   "cell_type": "code",
   "execution_count": 36,
   "metadata": {},
   "outputs": [
    {
     "data": {
      "image/png": "[encoded data removed]",
      "text/plain": [
       "<Figure size 432x288 with 1 Axes>"
      ]
     },
     "metadata": {
      "needs_background": "light"
     },
     "output_type": "display_data"
    },
    {
     "data": {
      "image/png": "[encoded data removed]",
      "text/plain": [
       "<Figure size 432x288 with 1 Axes>"
      ]
     },
     "metadata": {
      "needs_background": "light"
     },
     "output_type": "display_data"
    },
    {
     "data": {
      "image/png": "[encoded data removed]",
      "text/plain": [
       "<Figure size 432x288 with 1 Axes>"
      ]
     },
     "metadata": {
      "needs_background": "light"
     },
     "output_type": "display_data"
    }
   ],
   "source": [
    "RFM_clustered.loc[RFM_clustered['Cluster'] == 0 , (\"R_rank\",\"F_rank\",\"M_rank\")].plot.kde().get_figure().savefig(\"../cluster0kd.png\")\n",
    "RFM_clustered.loc[RFM_clustered['Cluster'] == 1 , (\"R_rank\",\"F_rank\",\"M_rank\")].plot.kde().get_figure().savefig(\"../cluster1kd.png\")\n",
    "RFM_clustered.loc[RFM_clustered['Cluster'] == 2 , (\"R_rank\",\"F_rank\",\"M_rank\")].plot.kde().get_figure().savefig(\"../cluster2kd.png\")\n"
   ]
  },
  {
   "cell_type": "code",
   "execution_count": null,
   "metadata": {},
   "outputs": [],
   "source": []
  }
 ],
 "metadata": {
  "kernelspec": {
   "display_name": "Python 3",
   "language": "python",
   "name": "python3"
  },
  "language_info": {
   "codemirror_mode": {
    "name": "ipython",
    "version": 3
   },
   "file_extension": ".py",
   "mimetype": "text/x-python",
   "name": "python",
   "nbconvert_exporter": "python",
   "pygments_lexer": "ipython3",
   "version": "3.7.5"
  }
 },
 "nbformat": 4,
 "nbformat_minor": 2
}
